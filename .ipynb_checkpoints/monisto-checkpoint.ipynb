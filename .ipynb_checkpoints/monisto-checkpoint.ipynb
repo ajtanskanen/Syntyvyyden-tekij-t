{
 "cells": [
  {
   "cell_type": "code",
   "execution_count": 1,
   "id": "29544f5b",
   "metadata": {},
   "outputs": [
    {
     "name": "stdout",
     "output_type": "stream",
     "text": [
      "Intel MKL WARNING: Support of Intel(R) Streaming SIMD Extensions 4.2 (Intel(R) SSE4.2) enabled only processors has been deprecated. Intel oneAPI Math Kernel Library 2025.0 will require Intel(R) Advanced Vector Extensions (Intel(R) AVX) instructions.\n",
      "Intel MKL WARNING: Support of Intel(R) Streaming SIMD Extensions 4.2 (Intel(R) SSE4.2) enabled only processors has been deprecated. Intel oneAPI Math Kernel Library 2025.0 will require Intel(R) Advanced Vector Extensions (Intel(R) AVX) instructions.\n"
     ]
    }
   ],
   "source": [
    "from autots import AutoTS,model_forecast\n",
    "from autots.datasets import load_hourly\n",
    "import pandas as pd\n",
    "import numpy as np\n",
    "from openpyxl import load_workbook\n",
    "import matplotlib.pyplot as plt\n",
    "from statsmodels.tsa.arima.model import ARIMA\n",
    "from statsmodels.graphics.tsaplots import plot_acf\n",
    "import pmdarima as pm\n",
    "from autots import load_daily, model_forecast"
   ]
  },
  {
   "cell_type": "code",
   "execution_count": 2,
   "id": "615272f6",
   "metadata": {},
   "outputs": [],
   "source": [
    "def update_excel_intensities(filename,df,sheet,mode='a'):\n",
    "    if mode=='a':\n",
    "        with pd.ExcelWriter(filename,mode=mode, if_sheet_exists='replace') as writer:  \n",
    "            df.to_excel(writer, sheet_name=sheet)\n",
    "    else:\n",
    "        with pd.ExcelWriter(filename,mode=mode) as writer:  \n",
    "            df.to_excel(writer, sheet_name=sheet)\n",
    "    \n",
    "def read_excel_sheet(file,sheetname):\n",
    "    customers = pd.read_excel(file,\n",
    "        sheet_name=sheetname,\n",
    "        header=0,\n",
    "        index_col=0,\n",
    "        keep_default_na=True\n",
    "        )\n",
    "    return customers\n",
    "\n",
    "def read_csv(file,sheetname):\n",
    "    customers = pd.read_csv(file,\n",
    "        header=0,\n",
    "        sep=';',\n",
    "        index_col=0,\n",
    "        keep_default_na=True\n",
    "        )\n",
    "    \n",
    "    customers.fillna(0,inplace=True)\n",
    "    \n",
    "    return customers\n",
    "\n",
    "def div100(x):\n",
    "    return x/100.0\n",
    "\n",
    "def mul100(x):\n",
    "    return x*100.0\n",
    "\n",
    "def logistic(x):\n",
    "    return np.log(x/(1-x))\n",
    "\n",
    "def invlogistic(x):\n",
    "    return np.exp(x)/(1+np.exp(x))\n",
    "\n",
    "def onex(x):\n",
    "    return x/(1-x)\n",
    "\n",
    "def invonex(x):\n",
    "    return x/(1+x)\n",
    "\n",
    "def onex2(x):\n",
    "    return x*x/(1-x*x)\n",
    "\n",
    "def invonex2(x):\n",
    "    return np.sqrt(x/(1+x))"
   ]
  },
  {
   "cell_type": "code",
   "execution_count": 3,
   "id": "6fce9462",
   "metadata": {
    "scrolled": false
   },
   "outputs": [
    {
     "ename": "ValueError",
     "evalue": "Worksheet named '2022' not found",
     "output_type": "error",
     "traceback": [
      "\u001b[0;31m---------------------------------------------------------------------------\u001b[0m",
      "\u001b[0;31mValueError\u001b[0m                                Traceback (most recent call last)",
      "Cell \u001b[0;32mIn[3], line 2\u001b[0m\n\u001b[1;32m      1\u001b[0m \u001b[38;5;66;03m#data = read_excel_sheet('data/predictions_backtesting_2023.xlsx','2022')\u001b[39;00m\n\u001b[0;32m----> 2\u001b[0m data \u001b[38;5;241m=\u001b[39m read_excel_sheet(\u001b[38;5;124m'\u001b[39m\u001b[38;5;124mdata/testdata_2024.xlsx\u001b[39m\u001b[38;5;124m'\u001b[39m,\u001b[38;5;124m'\u001b[39m\u001b[38;5;124m2022\u001b[39m\u001b[38;5;124m'\u001b[39m)\n\u001b[1;32m      3\u001b[0m data\u001b[38;5;241m=\u001b[39mdata[data\u001b[38;5;241m.\u001b[39mindex\u001b[38;5;241m<\u001b[39m\u001b[38;5;241m2024\u001b[39m]\n",
      "Cell \u001b[0;32mIn[2], line 10\u001b[0m, in \u001b[0;36mread_excel_sheet\u001b[0;34m(file, sheetname)\u001b[0m\n\u001b[1;32m      9\u001b[0m \u001b[38;5;28;01mdef\u001b[39;00m \u001b[38;5;21mread_excel_sheet\u001b[39m(file,sheetname):\n\u001b[0;32m---> 10\u001b[0m     customers \u001b[38;5;241m=\u001b[39m pd\u001b[38;5;241m.\u001b[39mread_excel(file,\n\u001b[1;32m     11\u001b[0m         sheet_name\u001b[38;5;241m=\u001b[39msheetname,\n\u001b[1;32m     12\u001b[0m         header\u001b[38;5;241m=\u001b[39m\u001b[38;5;241m0\u001b[39m,\n\u001b[1;32m     13\u001b[0m         index_col\u001b[38;5;241m=\u001b[39m\u001b[38;5;241m0\u001b[39m,\n\u001b[1;32m     14\u001b[0m         keep_default_na\u001b[38;5;241m=\u001b[39m\u001b[38;5;28;01mTrue\u001b[39;00m\n\u001b[1;32m     15\u001b[0m         )\n\u001b[1;32m     16\u001b[0m     \u001b[38;5;28;01mreturn\u001b[39;00m customers\n",
      "File \u001b[0;32m~/opt/miniconda3/envs/py311/lib/python3.11/site-packages/pandas/io/excel/_base.py:486\u001b[0m, in \u001b[0;36mread_excel\u001b[0;34m(io, sheet_name, header, names, index_col, usecols, dtype, engine, converters, true_values, false_values, skiprows, nrows, na_values, keep_default_na, na_filter, verbose, parse_dates, date_parser, date_format, thousands, decimal, comment, skipfooter, storage_options, dtype_backend)\u001b[0m\n\u001b[1;32m    480\u001b[0m     \u001b[38;5;28;01mraise\u001b[39;00m \u001b[38;5;167;01mValueError\u001b[39;00m(\n\u001b[1;32m    481\u001b[0m         \u001b[38;5;124m\"\u001b[39m\u001b[38;5;124mEngine should not be specified when passing \u001b[39m\u001b[38;5;124m\"\u001b[39m\n\u001b[1;32m    482\u001b[0m         \u001b[38;5;124m\"\u001b[39m\u001b[38;5;124man ExcelFile - ExcelFile already has the engine set\u001b[39m\u001b[38;5;124m\"\u001b[39m\n\u001b[1;32m    483\u001b[0m     )\n\u001b[1;32m    485\u001b[0m \u001b[38;5;28;01mtry\u001b[39;00m:\n\u001b[0;32m--> 486\u001b[0m     data \u001b[38;5;241m=\u001b[39m io\u001b[38;5;241m.\u001b[39mparse(\n\u001b[1;32m    487\u001b[0m         sheet_name\u001b[38;5;241m=\u001b[39msheet_name,\n\u001b[1;32m    488\u001b[0m         header\u001b[38;5;241m=\u001b[39mheader,\n\u001b[1;32m    489\u001b[0m         names\u001b[38;5;241m=\u001b[39mnames,\n\u001b[1;32m    490\u001b[0m         index_col\u001b[38;5;241m=\u001b[39mindex_col,\n\u001b[1;32m    491\u001b[0m         usecols\u001b[38;5;241m=\u001b[39musecols,\n\u001b[1;32m    492\u001b[0m         dtype\u001b[38;5;241m=\u001b[39mdtype,\n\u001b[1;32m    493\u001b[0m         converters\u001b[38;5;241m=\u001b[39mconverters,\n\u001b[1;32m    494\u001b[0m         true_values\u001b[38;5;241m=\u001b[39mtrue_values,\n\u001b[1;32m    495\u001b[0m         false_values\u001b[38;5;241m=\u001b[39mfalse_values,\n\u001b[1;32m    496\u001b[0m         skiprows\u001b[38;5;241m=\u001b[39mskiprows,\n\u001b[1;32m    497\u001b[0m         nrows\u001b[38;5;241m=\u001b[39mnrows,\n\u001b[1;32m    498\u001b[0m         na_values\u001b[38;5;241m=\u001b[39mna_values,\n\u001b[1;32m    499\u001b[0m         keep_default_na\u001b[38;5;241m=\u001b[39mkeep_default_na,\n\u001b[1;32m    500\u001b[0m         na_filter\u001b[38;5;241m=\u001b[39mna_filter,\n\u001b[1;32m    501\u001b[0m         verbose\u001b[38;5;241m=\u001b[39mverbose,\n\u001b[1;32m    502\u001b[0m         parse_dates\u001b[38;5;241m=\u001b[39mparse_dates,\n\u001b[1;32m    503\u001b[0m         date_parser\u001b[38;5;241m=\u001b[39mdate_parser,\n\u001b[1;32m    504\u001b[0m         date_format\u001b[38;5;241m=\u001b[39mdate_format,\n\u001b[1;32m    505\u001b[0m         thousands\u001b[38;5;241m=\u001b[39mthousands,\n\u001b[1;32m    506\u001b[0m         decimal\u001b[38;5;241m=\u001b[39mdecimal,\n\u001b[1;32m    507\u001b[0m         comment\u001b[38;5;241m=\u001b[39mcomment,\n\u001b[1;32m    508\u001b[0m         skipfooter\u001b[38;5;241m=\u001b[39mskipfooter,\n\u001b[1;32m    509\u001b[0m         dtype_backend\u001b[38;5;241m=\u001b[39mdtype_backend,\n\u001b[1;32m    510\u001b[0m     )\n\u001b[1;32m    511\u001b[0m \u001b[38;5;28;01mfinally\u001b[39;00m:\n\u001b[1;32m    512\u001b[0m     \u001b[38;5;66;03m# make sure to close opened file handles\u001b[39;00m\n\u001b[1;32m    513\u001b[0m     \u001b[38;5;28;01mif\u001b[39;00m should_close:\n",
      "File \u001b[0;32m~/opt/miniconda3/envs/py311/lib/python3.11/site-packages/pandas/io/excel/_base.py:1551\u001b[0m, in \u001b[0;36mExcelFile.parse\u001b[0;34m(self, sheet_name, header, names, index_col, usecols, converters, true_values, false_values, skiprows, nrows, na_values, parse_dates, date_parser, date_format, thousands, comment, skipfooter, dtype_backend, **kwds)\u001b[0m\n\u001b[1;32m   1518\u001b[0m \u001b[38;5;28;01mdef\u001b[39;00m \u001b[38;5;21mparse\u001b[39m(\n\u001b[1;32m   1519\u001b[0m     \u001b[38;5;28mself\u001b[39m,\n\u001b[1;32m   1520\u001b[0m     sheet_name: \u001b[38;5;28mstr\u001b[39m \u001b[38;5;241m|\u001b[39m \u001b[38;5;28mint\u001b[39m \u001b[38;5;241m|\u001b[39m \u001b[38;5;28mlist\u001b[39m[\u001b[38;5;28mint\u001b[39m] \u001b[38;5;241m|\u001b[39m \u001b[38;5;28mlist\u001b[39m[\u001b[38;5;28mstr\u001b[39m] \u001b[38;5;241m|\u001b[39m \u001b[38;5;28;01mNone\u001b[39;00m \u001b[38;5;241m=\u001b[39m \u001b[38;5;241m0\u001b[39m,\n\u001b[0;32m   (...)\u001b[0m\n\u001b[1;32m   1538\u001b[0m     \u001b[38;5;241m*\u001b[39m\u001b[38;5;241m*\u001b[39mkwds,\n\u001b[1;32m   1539\u001b[0m ) \u001b[38;5;241m-\u001b[39m\u001b[38;5;241m>\u001b[39m DataFrame \u001b[38;5;241m|\u001b[39m \u001b[38;5;28mdict\u001b[39m[\u001b[38;5;28mstr\u001b[39m, DataFrame] \u001b[38;5;241m|\u001b[39m \u001b[38;5;28mdict\u001b[39m[\u001b[38;5;28mint\u001b[39m, DataFrame]:\n\u001b[1;32m   1540\u001b[0m \u001b[38;5;250m    \u001b[39m\u001b[38;5;124;03m\"\"\"\u001b[39;00m\n\u001b[1;32m   1541\u001b[0m \u001b[38;5;124;03m    Parse specified sheet(s) into a DataFrame.\u001b[39;00m\n\u001b[1;32m   1542\u001b[0m \n\u001b[0;32m   (...)\u001b[0m\n\u001b[1;32m   1549\u001b[0m \u001b[38;5;124;03m        DataFrame from the passed in Excel file.\u001b[39;00m\n\u001b[1;32m   1550\u001b[0m \u001b[38;5;124;03m    \"\"\"\u001b[39;00m\n\u001b[0;32m-> 1551\u001b[0m     \u001b[38;5;28;01mreturn\u001b[39;00m \u001b[38;5;28mself\u001b[39m\u001b[38;5;241m.\u001b[39m_reader\u001b[38;5;241m.\u001b[39mparse(\n\u001b[1;32m   1552\u001b[0m         sheet_name\u001b[38;5;241m=\u001b[39msheet_name,\n\u001b[1;32m   1553\u001b[0m         header\u001b[38;5;241m=\u001b[39mheader,\n\u001b[1;32m   1554\u001b[0m         names\u001b[38;5;241m=\u001b[39mnames,\n\u001b[1;32m   1555\u001b[0m         index_col\u001b[38;5;241m=\u001b[39mindex_col,\n\u001b[1;32m   1556\u001b[0m         usecols\u001b[38;5;241m=\u001b[39musecols,\n\u001b[1;32m   1557\u001b[0m         converters\u001b[38;5;241m=\u001b[39mconverters,\n\u001b[1;32m   1558\u001b[0m         true_values\u001b[38;5;241m=\u001b[39mtrue_values,\n\u001b[1;32m   1559\u001b[0m         false_values\u001b[38;5;241m=\u001b[39mfalse_values,\n\u001b[1;32m   1560\u001b[0m         skiprows\u001b[38;5;241m=\u001b[39mskiprows,\n\u001b[1;32m   1561\u001b[0m         nrows\u001b[38;5;241m=\u001b[39mnrows,\n\u001b[1;32m   1562\u001b[0m         na_values\u001b[38;5;241m=\u001b[39mna_values,\n\u001b[1;32m   1563\u001b[0m         parse_dates\u001b[38;5;241m=\u001b[39mparse_dates,\n\u001b[1;32m   1564\u001b[0m         date_parser\u001b[38;5;241m=\u001b[39mdate_parser,\n\u001b[1;32m   1565\u001b[0m         date_format\u001b[38;5;241m=\u001b[39mdate_format,\n\u001b[1;32m   1566\u001b[0m         thousands\u001b[38;5;241m=\u001b[39mthousands,\n\u001b[1;32m   1567\u001b[0m         comment\u001b[38;5;241m=\u001b[39mcomment,\n\u001b[1;32m   1568\u001b[0m         skipfooter\u001b[38;5;241m=\u001b[39mskipfooter,\n\u001b[1;32m   1569\u001b[0m         dtype_backend\u001b[38;5;241m=\u001b[39mdtype_backend,\n\u001b[1;32m   1570\u001b[0m         \u001b[38;5;241m*\u001b[39m\u001b[38;5;241m*\u001b[39mkwds,\n\u001b[1;32m   1571\u001b[0m     )\n",
      "File \u001b[0;32m~/opt/miniconda3/envs/py311/lib/python3.11/site-packages/pandas/io/excel/_base.py:746\u001b[0m, in \u001b[0;36mBaseExcelReader.parse\u001b[0;34m(self, sheet_name, header, names, index_col, usecols, dtype, true_values, false_values, skiprows, nrows, na_values, verbose, parse_dates, date_parser, date_format, thousands, decimal, comment, skipfooter, dtype_backend, **kwds)\u001b[0m\n\u001b[1;32m    743\u001b[0m     \u001b[38;5;28mprint\u001b[39m(\u001b[38;5;124mf\u001b[39m\u001b[38;5;124m\"\u001b[39m\u001b[38;5;124mReading sheet \u001b[39m\u001b[38;5;132;01m{\u001b[39;00masheetname\u001b[38;5;132;01m}\u001b[39;00m\u001b[38;5;124m\"\u001b[39m)\n\u001b[1;32m    745\u001b[0m \u001b[38;5;28;01mif\u001b[39;00m \u001b[38;5;28misinstance\u001b[39m(asheetname, \u001b[38;5;28mstr\u001b[39m):\n\u001b[0;32m--> 746\u001b[0m     sheet \u001b[38;5;241m=\u001b[39m \u001b[38;5;28mself\u001b[39m\u001b[38;5;241m.\u001b[39mget_sheet_by_name(asheetname)\n\u001b[1;32m    747\u001b[0m \u001b[38;5;28;01melse\u001b[39;00m:  \u001b[38;5;66;03m# assume an integer if not a string\u001b[39;00m\n\u001b[1;32m    748\u001b[0m     sheet \u001b[38;5;241m=\u001b[39m \u001b[38;5;28mself\u001b[39m\u001b[38;5;241m.\u001b[39mget_sheet_by_index(asheetname)\n",
      "File \u001b[0;32m~/opt/miniconda3/envs/py311/lib/python3.11/site-packages/pandas/io/excel/_openpyxl.py:569\u001b[0m, in \u001b[0;36mOpenpyxlReader.get_sheet_by_name\u001b[0;34m(self, name)\u001b[0m\n\u001b[1;32m    568\u001b[0m \u001b[38;5;28;01mdef\u001b[39;00m \u001b[38;5;21mget_sheet_by_name\u001b[39m(\u001b[38;5;28mself\u001b[39m, name: \u001b[38;5;28mstr\u001b[39m):\n\u001b[0;32m--> 569\u001b[0m     \u001b[38;5;28mself\u001b[39m\u001b[38;5;241m.\u001b[39mraise_if_bad_sheet_by_name(name)\n\u001b[1;32m    570\u001b[0m     \u001b[38;5;28;01mreturn\u001b[39;00m \u001b[38;5;28mself\u001b[39m\u001b[38;5;241m.\u001b[39mbook[name]\n",
      "File \u001b[0;32m~/opt/miniconda3/envs/py311/lib/python3.11/site-packages/pandas/io/excel/_base.py:597\u001b[0m, in \u001b[0;36mBaseExcelReader.raise_if_bad_sheet_by_name\u001b[0;34m(self, name)\u001b[0m\n\u001b[1;32m    595\u001b[0m \u001b[38;5;28;01mdef\u001b[39;00m \u001b[38;5;21mraise_if_bad_sheet_by_name\u001b[39m(\u001b[38;5;28mself\u001b[39m, name: \u001b[38;5;28mstr\u001b[39m) \u001b[38;5;241m-\u001b[39m\u001b[38;5;241m>\u001b[39m \u001b[38;5;28;01mNone\u001b[39;00m:\n\u001b[1;32m    596\u001b[0m     \u001b[38;5;28;01mif\u001b[39;00m name \u001b[38;5;129;01mnot\u001b[39;00m \u001b[38;5;129;01min\u001b[39;00m \u001b[38;5;28mself\u001b[39m\u001b[38;5;241m.\u001b[39msheet_names:\n\u001b[0;32m--> 597\u001b[0m         \u001b[38;5;28;01mraise\u001b[39;00m \u001b[38;5;167;01mValueError\u001b[39;00m(\u001b[38;5;124mf\u001b[39m\u001b[38;5;124m\"\u001b[39m\u001b[38;5;124mWorksheet named \u001b[39m\u001b[38;5;124m'\u001b[39m\u001b[38;5;132;01m{\u001b[39;00mname\u001b[38;5;132;01m}\u001b[39;00m\u001b[38;5;124m'\u001b[39m\u001b[38;5;124m not found\u001b[39m\u001b[38;5;124m\"\u001b[39m)\n",
      "\u001b[0;31mValueError\u001b[0m: Worksheet named '2022' not found"
     ]
    }
   ],
   "source": [
    "#data = read_excel_sheet('data/predictions_backtesting_2023.xlsx','2022')\n",
    "data = read_excel_sheet('data/testdata_2024.xlsx','data')\n",
    "data=data[data.index<2024]#iloc[:10,:]\n"
   ]
  },
  {
   "cell_type": "code",
   "execution_count": null,
   "id": "e0f41ffd",
   "metadata": {},
   "outputs": [],
   "source": [
    "#data=data.reset_index(drop=True)\n",
    "#data.index2 = data.index\n",
    "#display(data.index)\n",
    "#for k,v in enumerate(x):\n",
    "#    data.loc[str(v),'index2'] = str(v)\n",
    "#data=data.set_index(data.index2,inplace=True)\n",
    "data.index = pd.to_datetime(data.index,format='%Y')\n",
    "display(data)\n"
   ]
  },
  {
   "cell_type": "code",
   "execution_count": null,
   "id": "b7ea7a8c",
   "metadata": {
    "scrolled": true
   },
   "outputs": [],
   "source": [
    "\n",
    "#df_wide = load_hourly(long=False)\n",
    "#display(df_wide)\n",
    "\n",
    "# here we care most about traffic volume, all other series assumed to be weight of 1\n",
    "weights_hourly = {} #'traffic_volume': 20}\n",
    "\n",
    "model_list = [\n",
    "    #'ETS',\n",
    "    'VECM',\n",
    "    #'Theta',\n",
    "    'ARDL',\n",
    "    #'RollingRegression',\n",
    "    #'FBProphet',\n",
    "    'KalmanStateSpace',\n",
    "    #'WindowRegression',\n",
    "    #'UnivariateRegression',\n",
    "    #'PytorchForecasting',\n",
    "    'LATC',\n",
    "    #'Constan\n",
    "]\n",
    "\n",
    "model = AutoTS(\n",
    "    forecast_length=10,\n",
    "    frequency='infer',\n",
    "    prediction_interval=0.90,\n",
    "    no_negatives=True,\n",
    "    ensemble=['all'],\n",
    "    max_generations=5,\n",
    "    num_validations=1,\n",
    "    validation_method='Backwards',\n",
    "    model_list=model_list,\n",
    "    transformer_list='all',\n",
    "    models_to_validate=0.2,\n",
    "    drop_most_recent=0,\n",
    "    n_jobs='auto',\n",
    ")\n",
    "\n",
    "model = model.fit(\n",
    "    data\n",
    ")\n",
    "\n",
    "prediction = model.predict()\n",
    "forecasts_df = prediction.forecast\n",
    "# prediction.long_form_results()\n"
   ]
  },
  {
   "cell_type": "code",
   "execution_count": null,
   "id": "98c3e771",
   "metadata": {},
   "outputs": [],
   "source": [
    "full_ensemble=pd.concat([data,forecasts_df])"
   ]
  },
  {
   "cell_type": "code",
   "execution_count": null,
   "id": "5dcc94ac",
   "metadata": {
    "scrolled": false
   },
   "outputs": [],
   "source": [
    "full_ensemble"
   ]
  },
  {
   "cell_type": "code",
   "execution_count": null,
   "id": "0d81ea86",
   "metadata": {},
   "outputs": [],
   "source": [
    "plt.plot(full_ensemble.avioituvuus_30_34)\n",
    "plt.plot(full_ensemble.avioituvuus_25_29)\n",
    "plt.show()\n",
    "plt.plot(full_ensemble.sisempikaupunki)\n",
    "plt.show()\n",
    "plt.plot(full_ensemble.tfr)"
   ]
  },
  {
   "cell_type": "code",
   "execution_count": null,
   "id": "e523fe39",
   "metadata": {
    "scrolled": true
   },
   "outputs": [],
   "source": [
    "model_list = [\n",
    "    #'UnobservedComponents',\n",
    "    #'GLS',\n",
    "    #'ARCH',\n",
    "    #'NeuralProphet',\n",
    "    #'GLM',\n",
    "    #'ETS',\n",
    "    'VECM',\n",
    "    #'Theta',\n",
    "    'ARDL',\n",
    "    #'RollingRegression',\n",
    "    #'FBProphet',\n",
    "    'KalmanStateSpace',\n",
    "    #'WindowRegression',\n",
    "    #'UnivariateRegression',\n",
    "    #'PytorchForecasting',\n",
    "    'LATC',\n",
    "    #'ConstantNaive',\n",
    "    #'LastValueNaive',\n",
    "    #'AverageValueNaive',\n",
    "#    'VARMAX',\n",
    "#    'ARIMA'\n",
    "]\n",
    "\n",
    "\n",
    "def pred_model(m,df):\n",
    "    df_forecast = model_forecast(\n",
    "        model_name=m,\n",
    "        model_param_dict={}, #'method': 'Mean'},\n",
    "        model_transform_dict={\n",
    "            #'fillna': 'mean',\n",
    "            #'transformations': {'0': 'DifferencedTransformer'},\n",
    "            #'transformation_params': {'0': {}}\n",
    "        },\n",
    "        df_train=df,\n",
    "        forecast_length=10,\n",
    "        frequency='infer',\n",
    "        prediction_interval=0.9,\n",
    "        no_negatives=False,\n",
    "        # future_regressor_train=future_regressor_train2d,\n",
    "        # future_regressor_forecast=future_regressor_forecast2d,\n",
    "        random_seed=321,\n",
    "        verbose=0,\n",
    "        n_jobs=\"auto\",\n",
    "    )\n",
    "    fd=df_forecast.forecast.head(10)\n",
    "    \n",
    "    return fd\n",
    "\n",
    "def predict_models(model_list,data,transform=False):\n",
    "    if transform:\n",
    "        modata=data.copy().apply(div100).apply(onex2).apply(mul100)\n",
    "    else:\n",
    "        modata=data.copy()\n",
    "    #print(modata)\n",
    "    cols=list(data.columns)\n",
    "    #print(cols,type(cols))\n",
    "    mlist=model_list.copy()\n",
    "    mlist.extend(['full'])\n",
    "    print(mlist,model_list)\n",
    "    ind = pd.MultiIndex.from_product([mlist,cols], names=['models','datasets'])\n",
    "    full=pd.DataFrame(columns=ind)\n",
    "    print(full)\n",
    "    for m in model_list:\n",
    "        print(m)\n",
    "        if transform:\n",
    "            fd=pred_model(m,modata).apply(div100).apply(invonex2).apply(mul100)\n",
    "        else:\n",
    "            fd=pred_model(m,modata)\n",
    "        print(fd)\n",
    "        full[m]=pd.concat([data,fd])\n",
    "    print(fd,full_ensemble)\n",
    "    print(pd.concat([data,fd]).shape,full_ensemble.shape)\n",
    "    full['full']=full_ensemble\n",
    "        \n",
    "    return full\n",
    "\n",
    "def plot_model(fulldf,dataset='avioituvuus_30_34'):\n",
    "    mlist=model_list.copy()\n",
    "    mlist.extend(['full'])\n",
    "    for m in mlist:\n",
    "        plt.plot(fulldf[m][dataset],label=m)    \n",
    "    plt.legend(bbox_to_anchor=(1.05, 1), loc=2, borderaxespad=0.)\n",
    "    plt.title(dataset)\n",
    "    plt.show()\n"
   ]
  },
  {
   "cell_type": "code",
   "execution_count": null,
   "id": "e4e500b6",
   "metadata": {
    "scrolled": true
   },
   "outputs": [],
   "source": [
    "forecast=predict_models(model_list,data)"
   ]
  },
  {
   "cell_type": "code",
   "execution_count": null,
   "id": "470f8b2b",
   "metadata": {
    "scrolled": false
   },
   "outputs": [],
   "source": [
    "plot_model(forecast,'avioituvuus_30_34')\n",
    "plot_model(forecast,'avioituvuus_25_29')\n",
    "plot_model(forecast,'sisempikaupunki')\n",
    "plot_model(forecast,'alypuhelin')\n",
    "plot_model(forecast,'maaseudulla')\n",
    "plot_model(forecast,'some_25_34')\n",
    "plot_model(forecast,'some_35_44')\n",
    "plot_model(forecast,'tfr')"
   ]
  },
  {
   "cell_type": "code",
   "execution_count": null,
   "id": "92dab90b",
   "metadata": {},
   "outputs": [],
   "source": []
  },
  {
   "cell_type": "code",
   "execution_count": null,
   "id": "08174226",
   "metadata": {},
   "outputs": [],
   "source": []
  },
  {
   "cell_type": "code",
   "execution_count": null,
   "id": "1dcb5cf1",
   "metadata": {},
   "outputs": [],
   "source": []
  }
 ],
 "metadata": {
  "kernelspec": {
   "display_name": "py311",
   "language": "python",
   "name": "py311"
  },
  "language_info": {
   "codemirror_mode": {
    "name": "ipython",
    "version": 3
   },
   "file_extension": ".py",
   "mimetype": "text/x-python",
   "name": "python",
   "nbconvert_exporter": "python",
   "pygments_lexer": "ipython3",
   "version": "3.11.5"
  }
 },
 "nbformat": 4,
 "nbformat_minor": 5
}
