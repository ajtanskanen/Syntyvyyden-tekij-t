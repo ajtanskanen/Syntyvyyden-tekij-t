{
 "cells": [
  {
   "cell_type": "code",
   "execution_count": null,
   "id": "29544f5b",
   "metadata": {},
   "outputs": [],
   "source": [
    "from autots import AutoTS\n",
    "from autots.datasets import load_hourly\n",
    "import pandas as pd\n",
    "import numpy as np\n",
    "from openpyxl import load_workbook\n",
    "import matplotlib.pyplot as plt\n",
    "from statsmodels.tsa.arima.model import ARIMA\n",
    "from statsmodels.graphics.tsaplots import plot_acf\n",
    "import pmdarima as pm"
   ]
  },
  {
   "cell_type": "code",
   "execution_count": null,
   "id": "615272f6",
   "metadata": {},
   "outputs": [],
   "source": [
    "def update_excel_intensities(filename,df,sheet,mode='a'):\n",
    "    if mode=='a':\n",
    "        with pd.ExcelWriter(filename,mode=mode, if_sheet_exists='replace') as writer:  \n",
    "            df.to_excel(writer, sheet_name=sheet)\n",
    "    else:\n",
    "        with pd.ExcelWriter(filename,mode=mode) as writer:  \n",
    "            df.to_excel(writer, sheet_name=sheet)\n",
    "    \n",
    "def read_excel_sheet(file,sheetname):\n",
    "    customers = pd.read_excel(file,\n",
    "        sheet_name=sheetname,\n",
    "        header=0,\n",
    "        index_col=0,\n",
    "        keep_default_na=True\n",
    "        )\n",
    "    return customers\n",
    "\n",
    "def read_csv(file,sheetname):\n",
    "    customers = pd.read_csv(file,\n",
    "        header=0,\n",
    "        sep=';',\n",
    "        index_col=0,\n",
    "        keep_default_na=True\n",
    "        )\n",
    "    \n",
    "    customers.fillna(0,inplace=True)\n",
    "    \n",
    "    return customers\n",
    "\n",
    "def div100(x):\n",
    "    return x/100.0\n",
    "\n",
    "def logistic(x):\n",
    "    return np.log(x/(1-x))\n",
    "\n",
    "def invlogistic(x):\n",
    "    return np.exp(x)/(1+np.exp(x))\n",
    "\n",
    "def onex(x):\n",
    "    return x/(1-x)\n",
    "\n",
    "def invonex(x):\n",
    "    return x/(1+x)\n",
    "\n",
    "def onex2(x):\n",
    "    return x*x/(1-x*x)\n",
    "\n",
    "def invonex2(x):\n",
    "    return np.sqrt(x/(1+x))"
   ]
  },
  {
   "cell_type": "code",
   "execution_count": null,
   "id": "6fce9462",
   "metadata": {},
   "outputs": [],
   "source": [
    "data = read_excel_sheet('data/predictions_backtesting_2023.xlsx','2022')\n",
    "display(data)"
   ]
  },
  {
   "cell_type": "code",
   "execution_count": null,
   "id": "b7ea7a8c",
   "metadata": {
    "scrolled": false
   },
   "outputs": [],
   "source": [
    "\n",
    "#df_wide = load_hourly(long=False)\n",
    "#display(df_wide)\n",
    "\n",
    "# here we care most about traffic volume, all other series assumed to be weight of 1\n",
    "weights_hourly = {'traffic_volume': 20}\n",
    "\n",
    "model_list = [\n",
    "    'LastValueNaive',\n",
    "    'GLS',\n",
    "    'ETS',\n",
    "    'AverageValueNaive',\n",
    "]\n",
    "\n",
    "model = AutoTS(\n",
    "    forecast_length=49,\n",
    "    frequency='infer',\n",
    "    prediction_interval=0.95,\n",
    "    ensemble=['simple', 'horizontal-min'],\n",
    "    max_generations=5,\n",
    "    num_validations=2,\n",
    "    validation_method='Backwards',\n",
    "    model_list=model_list,\n",
    "    transformer_list='all',\n",
    "    models_to_validate=0.2,\n",
    "    drop_most_recent=1,\n",
    "    n_jobs='auto',\n",
    ")\n",
    "\n",
    "model = model.fit(\n",
    "    df_wide,\n",
    "    weights=weights_hourly,\n",
    ")\n",
    "\n",
    "prediction = model.predict()\n",
    "forecasts_df = prediction.forecast\n",
    "# prediction.long_form_results()"
   ]
  },
  {
   "cell_type": "code",
   "execution_count": null,
   "id": "5dcc94ac",
   "metadata": {},
   "outputs": [],
   "source": []
  }
 ],
 "metadata": {
  "kernelspec": {
   "display_name": "torch",
   "language": "python",
   "name": "torch"
  },
  "language_info": {
   "codemirror_mode": {
    "name": "ipython",
    "version": 3
   },
   "file_extension": ".py",
   "mimetype": "text/x-python",
   "name": "python",
   "nbconvert_exporter": "python",
   "pygments_lexer": "ipython3",
   "version": "3.9.7"
  }
 },
 "nbformat": 4,
 "nbformat_minor": 5
}
